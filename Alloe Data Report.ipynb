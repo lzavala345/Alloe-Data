{
 "cells": [
  {
   "cell_type": "code",
   "execution_count": 1,
   "metadata": {},
   "outputs": [],
   "source": [
    "import numpy as np\n",
    "import pandas as pd"
   ]
  },
  {
   "cell_type": "markdown",
   "metadata": {},
   "source": [
    "# Connections and Attempts"
   ]
  },
  {
   "cell_type": "markdown",
   "metadata": {},
   "source": [
    "In this table we are analyzing the users to view their number of friend connections and attempts at making friendships."
   ]
  },
  {
   "cell_type": "code",
   "execution_count": 4,
   "metadata": {},
   "outputs": [],
   "source": [
    "df = pd.read_csv('Friendship.csv')\n",
    "accepted_request = df['status'] == 'ACCEPTED'\n",
    "df_accepted =  df[accepted_request]\n",
    "friendship_connection = df_accepted.groupby('user').friend.count()\n",
    "waiting_request = df['status'] == 'WAITING'\n",
    "df_waiting = df[waiting_request]\n",
    "friendship_attempt = df_waiting.groupby('user').friend.count()"
   ]
  },
  {
   "cell_type": "code",
   "execution_count": 5,
   "metadata": {},
   "outputs": [
    {
     "data": {
      "text/plain": [
       "<matplotlib.legend.Legend at 0x255be138a58>"
      ]
     },
     "execution_count": 5,
     "metadata": {},
     "output_type": "execute_result"
    },
    {
     "data": {
      "image/png": "[encoded data removed]",
      "text/plain": [
       "<matplotlib.figure.Figure at 0x255bd4be1d0>"
      ]
     },
     "metadata": {},
     "output_type": "display_data"
    }
   ],
   "source": [
    "%matplotlib inline\n",
    "import matplotlib.pyplot as plt\n",
    "plt.figure(1)\n",
    "plt.hist(friendship_connection, bins=5, label='Connection', fc=(0, 0, 1, 0.5))\n",
    "plt.hist(friendship_attempt, bins = 5, label= 'Attempt', fc=(0, 1, 0, 0.5) )\n",
    "plt.xlabel('Requests')\n",
    "plt.ylabel('Users')\n",
    "plt.title('Connections & Attempts')\n",
    "plt.legend(loc ='best')"
   ]
  },
  {
   "cell_type": "markdown",
   "metadata": {},
   "source": [
    "We can see from our analysis that most users had around 1 to 50 accepted friendship requests while a few in that range remained as attempted friendships."
   ]
  },
  {
   "cell_type": "markdown",
   "metadata": {},
   "source": [
    "# Average Event Per User\n"
   ]
  },
  {
   "cell_type": "markdown",
   "metadata": {},
   "source": [
    "In this table we are now testing the relationship between the users and an event to find the average event per user.  "
   ]
  },
  {
   "cell_type": "code",
   "execution_count": 11,
   "metadata": {},
   "outputs": [],
   "source": [
    "df2 = pd.read_csv ('Event.csv')\n",
    "per_user = df2.groupby('user').event.nunique().reset_index(name='count1')\n",
    "one = per_user['count1'] ==1\n",
    "total_1 = np.sum(one)\n",
    "two_to_five = per_user['count1'].between(2, 5, inclusive=True)\n",
    "total_two_to_five = np.sum(two_to_five)\n",
    "six_to_ten = per_user['count1'].between(6, 10, inclusive=True)\n",
    "total_six_to_ten = np.sum(six_to_ten)\n",
    "eleven_plus = per_user['count1'] >10\n",
    "total_eleven_plus = np.sum(eleven_plus)"
   ]
  },
  {
   "cell_type": "code",
   "execution_count": 17,
   "metadata": {},
   "outputs": [
    {
     "data": {
      "text/plain": [
       "Text(0.5,1,'Number of Events Per User')"
      ]
     },
     "execution_count": 17,
     "metadata": {},
     "output_type": "execute_result"
    },
    {
     "data": {
      "image/png": "[encoded data removed]",
      "text/plain": [
       "<matplotlib.figure.Figure at 0x255bf42dba8>"
      ]
     },
     "metadata": {},
     "output_type": "display_data"
    }
   ],
   "source": [
    "plt.figure(2)\n",
    "objects = ('One', 'Two to Five', 'Six to Ten', 'Eleven or More')\n",
    "y_pos = np.arange(len(objects))\n",
    "performance = [total_1, total_two_to_five, total_six_to_ten, total_eleven_plus]\n",
    "plt.bar(y_pos, performance, align='center', alpha=0.5)\n",
    "plt.xticks(y_pos,objects)\n",
    "plt.xlabel('Events')\n",
    "plt.ylabel('Users')\n",
    "plt.title('Number of Events Per User')"
   ]
  },
  {
   "cell_type": "markdown",
   "metadata": {},
   "source": [
    "Most of the users attended about two to five events at their time using alloe with credit carma.  With the average event per user being 3.4. "
   ]
  },
  {
   "cell_type": "markdown",
   "metadata": {},
   "source": [
    "# Average Challenge Per User\n"
   ]
  },
  {
   "cell_type": "markdown",
   "metadata": {},
   "source": [
    "In this table we are now looking at the relationship bewteen the users and challenges to get the average challenge per user."
   ]
  },
  {
   "cell_type": "code",
   "execution_count": 8,
   "metadata": {},
   "outputs": [],
   "source": [
    "df3 = pd.read_csv('Challenge.csv')\n",
    "user_challenge = df3.groupby('user').challenge.count().reset_index(name='count2')\n",
    "one = user_challenge['count2'] == 1\n",
    "total_one = np.sum(one)\n",
    "two_or_three = user_challenge['count2'].between(2, 3, inclusive=True)\n",
    "total_two_or_three = np.sum (two_or_three)\n",
    "four_to_six = user_challenge['count2'].between(4, 6, inclusive=True)\n",
    "total_four_to_six = np.sum (four_to_six)\n",
    "seven_plus = user_challenge['count2'] >6\n",
    "total_seven_plus = np.sum(seven_plus)"
   ]
  },
  {
   "cell_type": "code",
   "execution_count": 18,
   "metadata": {},
   "outputs": [
    {
     "data": {
      "text/plain": [
       "Text(0.5,1,'Number of Challenges Per User')"
      ]
     },
     "execution_count": 18,
     "metadata": {},
     "output_type": "execute_result"
    },
    {
     "data": {
      "image/png": "[encoded data removed]",
      "text/plain": [
       "<matplotlib.figure.Figure at 0x255bf4a5fd0>"
      ]
     },
     "metadata": {},
     "output_type": "display_data"
    }
   ],
   "source": [
    "plt.figure(3)\n",
    "objects = ('One', 'Two or Three', 'Four to Six', 'Seven or More')\n",
    "y_pos = np.arange(len(objects))\n",
    "performance = [total_one, total_two_or_three, total_four_to_six, total_seven_plus]\n",
    "plt.bar(y_pos, performance, align = 'center', alpha = 0.5)\n",
    "plt.xticks (y_pos,objects)\n",
    "plt.xlabel('Challenges')\n",
    "plt.ylabel('Users')\n",
    "plt.title('Number of Challenges Per User')"
   ]
  },
  {
   "cell_type": "markdown",
   "metadata": {},
   "source": [
    "More than 160 users at least participated in one challenge in their time using alloe and more than 100 users participating to at least two or three. The average challenge per user was 2.2"
   ]
  },
  {
   "cell_type": "markdown",
   "metadata": {},
   "source": [
    "# Average Challenge Invitation Sent"
   ]
  },
  {
   "cell_type": "markdown",
   "metadata": {},
   "source": [
    "In this table we are analyzing the relationship between the unique users and friends to see how many challenge invitations were sent per user.  "
   ]
  },
  {
   "cell_type": "code",
   "execution_count": 14,
   "metadata": {},
   "outputs": [],
   "source": [
    "df4 = pd.read_csv('Challenges.csv')\n",
    "challenge_invitation = df4.groupby('user').friend.count().reset_index(name='count3')\n",
    "one = challenge_invitation['count3'] == 1\n",
    "total_one = np.sum(one)\n",
    "two_or_three = challenge_invitation['count3'].between(2, 3, inclusive=True)\n",
    "total_two_or_three = np.sum (two_or_three)\n",
    "four_to_six = challenge_invitation['count3'].between(4, 6, inclusive=True)"
   ]
  },
  {
   "cell_type": "code",
   "execution_count": 15,
   "metadata": {},
   "outputs": [
    {
     "data": {
      "text/plain": [
       "Text(0.5,1,'Number of Challenge Invitations Sent Per User')"
      ]
     },
     "execution_count": 15,
     "metadata": {},
     "output_type": "execute_result"
    },
    {
     "data": {
      "image/png": "[encoded data removed]",
      "text/plain": [
       "<matplotlib.figure.Figure at 0x255bf37a390>"
      ]
     },
     "metadata": {},
     "output_type": "display_data"
    }
   ],
   "source": [
    "plt.figure(4)\n",
    "objects = ('one', 'two or three', 'four to six')\n",
    "y_pos = np.arange(len(objects))\n",
    "performance = [total_one, total_two_or_three, total_four_to_six]\n",
    "plt.bar(y_pos, performance, align = 'center', alpha = 0.5)\n",
    "plt.xticks (y_pos,objects)\n",
    "plt.xlabel('Challenge Invitations Sent')\n",
    "plt.ylabel('Users')\n",
    "plt.title('Number of Challenge Invitations Sent Per User')"
   ]
  },
  {
   "cell_type": "markdown",
   "metadata": {},
   "source": [
    "# Number of Total User Actions"
   ]
  },
  {
   "cell_type": "markdown",
   "metadata": {},
   "source": [
    "In this table we are analyzing each unique user, with the date to find the number of total actions.  Each date indicates when a user has used the app."
   ]
  },
  {
   "cell_type": "code",
   "execution_count": 25,
   "metadata": {},
   "outputs": [],
   "source": [
    "df6 = pd.read_csv('timeline_data.csv')\n",
    "user_action= df6.groupby('user').post.count().reset_index(name='count3')\n",
    "one_to_fivehundred = user_action['count3'].between(1, 500, inclusive=True)\n",
    "total_one_to_fivehundred = np.sum (one_to_fivehundred)\n",
    "fivehundred_to_onethousand = user_action['count3'].between(501, 1000, inclusive=True)\n",
    "total_fivehundred_to_onethousand = np.sum(fivehundred_to_onethousand)\n",
    "onethousand_to_twothousand =  user_action['count3'].between(1001, 2000, inclusive=True)\n",
    "total_onethousand_to_twothousand = np.sum(onethousand_to_twothousand)\n",
    "twothousand_or_more = user_action['count3'] >2000\n",
    "total_twothousand_or_more = np.sum(twothousand_or_more)"
   ]
  },
  {
   "cell_type": "code",
   "execution_count": 27,
   "metadata": {},
   "outputs": [
    {
     "data": {
      "text/plain": [
       "Text(0.5,1,'Total User Actions')"
      ]
     },
     "execution_count": 27,
     "metadata": {},
     "output_type": "execute_result"
    },
    {
     "data": {
      "image/png": "[encoded data removed]",
      "text/plain": [
       "<matplotlib.figure.Figure at 0x255bfae2d68>"
      ]
     },
     "metadata": {},
     "output_type": "display_data"
    }
   ],
   "source": [
    "plt.figure(6)\n",
    "objects = ('1-500', '500-1000', '1000-2000', '2000+')\n",
    "y_pos = np.arange(len(objects))\n",
    "performance = [total_one_to_fivehundred, total_fivehundred_to_onethousand, total_onethousand_to_twothousand, total_twothousand_or_more]\n",
    "plt.bar(y_pos, performance, align = 'center', alpha = 0.5)\n",
    "plt.xticks (y_pos,objects)\n",
    "plt.xlabel('Actions')\n",
    "plt.ylabel('Users')\n",
    "plt.title('Total User Actions')"
   ]
  },
  {
   "cell_type": "markdown",
   "metadata": {},
   "source": [
    "After analyzing this table we observe that there is a high rate of actions per user. Users on average performed 660 actions over the 2 years Alloe was in use at Credit Karma."
   ]
  }
 ],
 "metadata": {
  "kernelspec": {
   "display_name": "Python 3",
   "language": "python",
   "name": "python3"
  },
  "language_info": {
   "codemirror_mode": {
    "name": "ipython",
    "version": 3
   },
   "file_extension": ".py",
   "mimetype": "text/x-python",
   "name": "python",
   "nbconvert_exporter": "python",
   "pygments_lexer": "ipython3",
   "version": "3.6.4"
  }
 },
 "nbformat": 4,
 "nbformat_minor": 2
}
