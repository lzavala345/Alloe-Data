{
 "cells": [
  {
   "cell_type": "markdown",
   "metadata": {},
   "source": [
    "#                                     Alloe Data Analysis"
   ]
  },
  {
   "cell_type": "code",
   "execution_count": 439,
   "metadata": {},
   "outputs": [],
   "source": [
    "import numpy as np\n",
    "import pandas as pd"
   ]
  },
  {
   "cell_type": "markdown",
   "metadata": {},
   "source": [
    "# Average Friend  Connections Per User"
   ]
  },
  {
   "cell_type": "markdown",
   "metadata": {},
   "source": [
    "In this table, we are analyzing the users and friends columns. We are testing the relationship of unique users with friends to get an average friendship per user."
   ]
  },
  {
   "cell_type": "code",
   "execution_count": 96,
   "metadata": {},
   "outputs": [],
   "source": [
    "df = pd.read_csv('Friendship.csv')"
   ]
  },
  {
   "cell_type": "code",
   "execution_count": 209,
   "metadata": {},
   "outputs": [
    {
     "data": {
      "text/html": [
       "<div>\n",
       "<style scoped>\n",
       "    .dataframe tbody tr th:only-of-type {\n",
       "        vertical-align: middle;\n",
       "    }\n",
       "\n",
       "    .dataframe tbody tr th {\n",
       "        vertical-align: top;\n",
       "    }\n",
       "\n",
       "    .dataframe thead th {\n",
       "        text-align: right;\n",
       "    }\n",
       "</style>\n",
       "<table border=\"1\" class=\"dataframe\">\n",
       "  <thead>\n",
       "    <tr style=\"text-align: right;\">\n",
       "      <th></th>\n",
       "      <th>_class</th>\n",
       "      <th>_id</th>\n",
       "      <th>accepted</th>\n",
       "      <th>friend</th>\n",
       "      <th>received</th>\n",
       "      <th>sent</th>\n",
       "      <th>status</th>\n",
       "      <th>user</th>\n",
       "    </tr>\n",
       "  </thead>\n",
       "  <tbody>\n",
       "    <tr>\n",
       "      <th>0</th>\n",
       "      <td>com.litekey.alloe.model.Friendship</td>\n",
       "      <td>551f2205f8dc7fdfe9638441</td>\n",
       "      <td>2015-03-19T12:00:00.000Z</td>\n",
       "      <td>54f5ef739932b01dbcffc8a2 @ user</td>\n",
       "      <td>NaN</td>\n",
       "      <td>2015-03-19T12:00:00.000Z</td>\n",
       "      <td>ACCEPTED</td>\n",
       "      <td>5510107c9932db650930105d @ user</td>\n",
       "    </tr>\n",
       "    <tr>\n",
       "      <th>1</th>\n",
       "      <td>com.litekey.alloe.model.Friendship</td>\n",
       "      <td>551f2207f8dc7fdfe9638442</td>\n",
       "      <td>2015-03-19T12:00:00.000Z</td>\n",
       "      <td>5510107c9932db650930105d @ user</td>\n",
       "      <td>2015-03-19T12:00:00.000Z</td>\n",
       "      <td>NaN</td>\n",
       "      <td>ACCEPTED</td>\n",
       "      <td>54f5ef739932b01dbcffc8a2 @ user</td>\n",
       "    </tr>\n",
       "    <tr>\n",
       "      <th>2</th>\n",
       "      <td>com.litekey.alloe.model.Friendship</td>\n",
       "      <td>550a67aa993212d9d6de6e60</td>\n",
       "      <td>NaN</td>\n",
       "      <td>550a1875993212d9d6de6e4e @ user</td>\n",
       "      <td>NaN</td>\n",
       "      <td>2015-03-19T12:00:00.000Z</td>\n",
       "      <td>WAITING</td>\n",
       "      <td>5509a55b993212d9d6de6e35 @ user</td>\n",
       "    </tr>\n",
       "  </tbody>\n",
       "</table>\n",
       "</div>"
      ],
      "text/plain": [
       "                               _class                       _id  \\\n",
       "0  com.litekey.alloe.model.Friendship  551f2205f8dc7fdfe9638441   \n",
       "1  com.litekey.alloe.model.Friendship  551f2207f8dc7fdfe9638442   \n",
       "2  com.litekey.alloe.model.Friendship  550a67aa993212d9d6de6e60   \n",
       "\n",
       "                   accepted                           friend  \\\n",
       "0  2015-03-19T12:00:00.000Z  54f5ef739932b01dbcffc8a2 @ user   \n",
       "1  2015-03-19T12:00:00.000Z  5510107c9932db650930105d @ user   \n",
       "2                       NaN  550a1875993212d9d6de6e4e @ user   \n",
       "\n",
       "                   received                      sent    status  \\\n",
       "0                       NaN  2015-03-19T12:00:00.000Z  ACCEPTED   \n",
       "1  2015-03-19T12:00:00.000Z                       NaN  ACCEPTED   \n",
       "2                       NaN  2015-03-19T12:00:00.000Z   WAITING   \n",
       "\n",
       "                              user  \n",
       "0  5510107c9932db650930105d @ user  \n",
       "1  54f5ef739932b01dbcffc8a2 @ user  \n",
       "2  5509a55b993212d9d6de6e35 @ user  "
      ]
     },
     "execution_count": 209,
     "metadata": {},
     "output_type": "execute_result"
    }
   ],
   "source": [
    "df[0:3]"
   ]
  },
  {
   "cell_type": "code",
   "execution_count": 99,
   "metadata": {},
   "outputs": [],
   "source": [
    "relationship = df.loc[:,['friend','user']]"
   ]
  },
  {
   "cell_type": "code",
   "execution_count": 210,
   "metadata": {},
   "outputs": [
    {
     "data": {
      "text/html": [
       "<div>\n",
       "<style scoped>\n",
       "    .dataframe tbody tr th:only-of-type {\n",
       "        vertical-align: middle;\n",
       "    }\n",
       "\n",
       "    .dataframe tbody tr th {\n",
       "        vertical-align: top;\n",
       "    }\n",
       "\n",
       "    .dataframe thead th {\n",
       "        text-align: right;\n",
       "    }\n",
       "</style>\n",
       "<table border=\"1\" class=\"dataframe\">\n",
       "  <thead>\n",
       "    <tr style=\"text-align: right;\">\n",
       "      <th></th>\n",
       "      <th>friend</th>\n",
       "      <th>user</th>\n",
       "    </tr>\n",
       "  </thead>\n",
       "  <tbody>\n",
       "    <tr>\n",
       "      <th>0</th>\n",
       "      <td>54f5ef739932b01dbcffc8a2 @ user</td>\n",
       "      <td>5510107c9932db650930105d @ user</td>\n",
       "    </tr>\n",
       "    <tr>\n",
       "      <th>1</th>\n",
       "      <td>5510107c9932db650930105d @ user</td>\n",
       "      <td>54f5ef739932b01dbcffc8a2 @ user</td>\n",
       "    </tr>\n",
       "    <tr>\n",
       "      <th>2</th>\n",
       "      <td>550a1875993212d9d6de6e4e @ user</td>\n",
       "      <td>5509a55b993212d9d6de6e35 @ user</td>\n",
       "    </tr>\n",
       "    <tr>\n",
       "      <th>3</th>\n",
       "      <td>550a1875993212d9d6de6e4e @ user</td>\n",
       "      <td>550af727993212d9d6de6e76 @ user</td>\n",
       "    </tr>\n",
       "    <tr>\n",
       "      <th>4</th>\n",
       "      <td>550a1875993212d9d6de6e4e @ user</td>\n",
       "      <td>550b1aa8993212d9d6de6ea6 @ user</td>\n",
       "    </tr>\n",
       "    <tr>\n",
       "      <th>5</th>\n",
       "      <td>550a1875993212d9d6de6e4e @ user</td>\n",
       "      <td>550b2e45993212d9d6de6f6a @ user</td>\n",
       "    </tr>\n",
       "  </tbody>\n",
       "</table>\n",
       "</div>"
      ],
      "text/plain": [
       "                            friend                             user\n",
       "0  54f5ef739932b01dbcffc8a2 @ user  5510107c9932db650930105d @ user\n",
       "1  5510107c9932db650930105d @ user  54f5ef739932b01dbcffc8a2 @ user\n",
       "2  550a1875993212d9d6de6e4e @ user  5509a55b993212d9d6de6e35 @ user\n",
       "3  550a1875993212d9d6de6e4e @ user  550af727993212d9d6de6e76 @ user\n",
       "4  550a1875993212d9d6de6e4e @ user  550b1aa8993212d9d6de6ea6 @ user\n",
       "5  550a1875993212d9d6de6e4e @ user  550b2e45993212d9d6de6f6a @ user"
      ]
     },
     "execution_count": 210,
     "metadata": {},
     "output_type": "execute_result"
    }
   ],
   "source": [
    "relationship[0:6]"
   ]
  },
  {
   "cell_type": "code",
   "execution_count": 310,
   "metadata": {},
   "outputs": [],
   "source": [
    "user_friendships = df.groupby('user').friend.nunique()"
   ]
  },
  {
   "cell_type": "code",
   "execution_count": 363,
   "metadata": {},
   "outputs": [
    {
     "data": {
      "text/plain": [
       "user\n",
       "54f530089932b01dbcffc89b @ user     4\n",
       "54f530c89932b01dbcffc89c @ user    25\n",
       "54f5ef739932b01dbcffc8a2 @ user     9\n",
       "54f757f4993241fc498ec5d7 @ user     7\n",
       "54f8f6f59932ce1b71e7317a @ user     1\n",
       "54fe33869932ce1b71e73193 @ user     3\n",
       "Name: friend, dtype: int64"
      ]
     },
     "execution_count": 363,
     "metadata": {},
     "output_type": "execute_result"
    }
   ],
   "source": [
    "user_friendships[0:6]"
   ]
  },
  {
   "cell_type": "code",
   "execution_count": 312,
   "metadata": {},
   "outputs": [],
   "source": [
    "avg_friendships = np.mean(user_friendships)"
   ]
  },
  {
   "cell_type": "code",
   "execution_count": 443,
   "metadata": {},
   "outputs": [
    {
     "name": "stdout",
     "output_type": "stream",
     "text": [
      "19.627039627039625\n"
     ]
    }
   ],
   "source": [
    "print(np.mean(user_friendships))"
   ]
  },
  {
   "cell_type": "code",
   "execution_count": 314,
   "metadata": {},
   "outputs": [],
   "source": [
    "%matplotlib inline\n",
    "import matplotlib.pyplot as plt"
   ]
  },
  {
   "cell_type": "code",
   "execution_count": 440,
   "metadata": {},
   "outputs": [
    {
     "data": {
      "text/plain": [
       "Text(0.5,1,'Number of Friend Connections Per User')"
      ]
     },
     "execution_count": 440,
     "metadata": {},
     "output_type": "execute_result"
    },
    {
     "data": {
      "image/png": "[encoded data removed]",
      "text/plain": [
       "<matplotlib.figure.Figure at 0x1e34e3905f8>"
      ]
     },
     "metadata": {},
     "output_type": "display_data"
    }
   ],
   "source": [
    "plt.figure(1)\n",
    "plt.hist(user_friendships, bins=250)\n",
    "plt.xlabel('Friendships')\n",
    "plt.ylabel('Users')\n",
    "plt.title('Number of Friend Connections Per User')"
   ]
  },
  {
   "cell_type": "markdown",
   "metadata": {},
   "source": [
    "We can see from our calculations that the average friendship per user is 19.63.  However, we have most users between 0 and 50 and the maximum with 351 friendships."
   ]
  },
  {
   "cell_type": "markdown",
   "metadata": {},
   "source": [
    "# Average Event Per User"
   ]
  },
  {
   "cell_type": "markdown",
   "metadata": {},
   "source": [
    "In this table we are now testing the relationship between the unique users and an event to find the average event per user.  "
   ]
  },
  {
   "cell_type": "code",
   "execution_count": 109,
   "metadata": {},
   "outputs": [],
   "source": [
    "df2 = pd.read_csv ('Event.csv')"
   ]
  },
  {
   "cell_type": "code",
   "execution_count": 212,
   "metadata": {},
   "outputs": [
    {
     "data": {
      "text/html": [
       "<div>\n",
       "<style scoped>\n",
       "    .dataframe tbody tr th:only-of-type {\n",
       "        vertical-align: middle;\n",
       "    }\n",
       "\n",
       "    .dataframe tbody tr th {\n",
       "        vertical-align: top;\n",
       "    }\n",
       "\n",
       "    .dataframe thead th {\n",
       "        text-align: right;\n",
       "    }\n",
       "</style>\n",
       "<table border=\"1\" class=\"dataframe\">\n",
       "  <thead>\n",
       "    <tr style=\"text-align: right;\">\n",
       "      <th></th>\n",
       "      <th>_class</th>\n",
       "      <th>_id</th>\n",
       "      <th>event</th>\n",
       "      <th>user</th>\n",
       "    </tr>\n",
       "  </thead>\n",
       "  <tbody>\n",
       "    <tr>\n",
       "      <th>0</th>\n",
       "      <td>com.litekey.alloe.model.AssistantEvent</td>\n",
       "      <td>54f8d2e1993249d85f49ebc0</td>\n",
       "      <td>54f7c60399325a93a608f9ee @ event</td>\n",
       "      <td>54f530089932b01dbcffc89b @ user</td>\n",
       "    </tr>\n",
       "    <tr>\n",
       "      <th>1</th>\n",
       "      <td>com.litekey.alloe.model.AssistantEvent</td>\n",
       "      <td>54f8d63a9932ce1b71e7316b</td>\n",
       "      <td>54f7c60399325a93a608f9ee @ event</td>\n",
       "      <td>54f5ef739932b01dbcffc8a2 @ user</td>\n",
       "    </tr>\n",
       "    <tr>\n",
       "      <th>2</th>\n",
       "      <td>com.litekey.alloe.model.AssistantEvent</td>\n",
       "      <td>551615509932db650930194e</td>\n",
       "      <td>551613ab993250a8b06ca382 @ event</td>\n",
       "      <td>54f530c89932b01dbcffc89c @ user</td>\n",
       "    </tr>\n",
       "  </tbody>\n",
       "</table>\n",
       "</div>"
      ],
      "text/plain": [
       "                                   _class                       _id  \\\n",
       "0  com.litekey.alloe.model.AssistantEvent  54f8d2e1993249d85f49ebc0   \n",
       "1  com.litekey.alloe.model.AssistantEvent  54f8d63a9932ce1b71e7316b   \n",
       "2  com.litekey.alloe.model.AssistantEvent  551615509932db650930194e   \n",
       "\n",
       "                              event                             user  \n",
       "0  54f7c60399325a93a608f9ee @ event  54f530089932b01dbcffc89b @ user  \n",
       "1  54f7c60399325a93a608f9ee @ event  54f5ef739932b01dbcffc8a2 @ user  \n",
       "2  551613ab993250a8b06ca382 @ event  54f530c89932b01dbcffc89c @ user  "
      ]
     },
     "execution_count": 212,
     "metadata": {},
     "output_type": "execute_result"
    }
   ],
   "source": [
    "df2[0:3]"
   ]
  },
  {
   "cell_type": "code",
   "execution_count": 120,
   "metadata": {},
   "outputs": [],
   "source": [
    "relationship2 = df2.loc[:,['event','user']]"
   ]
  },
  {
   "cell_type": "code",
   "execution_count": 213,
   "metadata": {},
   "outputs": [
    {
     "data": {
      "text/html": [
       "<div>\n",
       "<style scoped>\n",
       "    .dataframe tbody tr th:only-of-type {\n",
       "        vertical-align: middle;\n",
       "    }\n",
       "\n",
       "    .dataframe tbody tr th {\n",
       "        vertical-align: top;\n",
       "    }\n",
       "\n",
       "    .dataframe thead th {\n",
       "        text-align: right;\n",
       "    }\n",
       "</style>\n",
       "<table border=\"1\" class=\"dataframe\">\n",
       "  <thead>\n",
       "    <tr style=\"text-align: right;\">\n",
       "      <th></th>\n",
       "      <th>event</th>\n",
       "      <th>user</th>\n",
       "    </tr>\n",
       "  </thead>\n",
       "  <tbody>\n",
       "    <tr>\n",
       "      <th>0</th>\n",
       "      <td>54f7c60399325a93a608f9ee @ event</td>\n",
       "      <td>54f530089932b01dbcffc89b @ user</td>\n",
       "    </tr>\n",
       "    <tr>\n",
       "      <th>1</th>\n",
       "      <td>54f7c60399325a93a608f9ee @ event</td>\n",
       "      <td>54f5ef739932b01dbcffc8a2 @ user</td>\n",
       "    </tr>\n",
       "    <tr>\n",
       "      <th>2</th>\n",
       "      <td>551613ab993250a8b06ca382 @ event</td>\n",
       "      <td>54f530c89932b01dbcffc89c @ user</td>\n",
       "    </tr>\n",
       "    <tr>\n",
       "      <th>3</th>\n",
       "      <td>55160e36993250a8b06ca379 @ event</td>\n",
       "      <td>550b2e0a993212d9d6de6f69 @ user</td>\n",
       "    </tr>\n",
       "    <tr>\n",
       "      <th>4</th>\n",
       "      <td>55160e36993250a8b06ca379 @ event</td>\n",
       "      <td>550a054e993212d9d6de6e3e @ user</td>\n",
       "    </tr>\n",
       "    <tr>\n",
       "      <th>5</th>\n",
       "      <td>55160e36993250a8b06ca379 @ event</td>\n",
       "      <td>5509a55b993212d9d6de6e35 @ user</td>\n",
       "    </tr>\n",
       "  </tbody>\n",
       "</table>\n",
       "</div>"
      ],
      "text/plain": [
       "                              event                             user\n",
       "0  54f7c60399325a93a608f9ee @ event  54f530089932b01dbcffc89b @ user\n",
       "1  54f7c60399325a93a608f9ee @ event  54f5ef739932b01dbcffc8a2 @ user\n",
       "2  551613ab993250a8b06ca382 @ event  54f530c89932b01dbcffc89c @ user\n",
       "3  55160e36993250a8b06ca379 @ event  550b2e0a993212d9d6de6f69 @ user\n",
       "4  55160e36993250a8b06ca379 @ event  550a054e993212d9d6de6e3e @ user\n",
       "5  55160e36993250a8b06ca379 @ event  5509a55b993212d9d6de6e35 @ user"
      ]
     },
     "execution_count": 213,
     "metadata": {},
     "output_type": "execute_result"
    }
   ],
   "source": [
    "relationship2[0:6]"
   ]
  },
  {
   "cell_type": "code",
   "execution_count": 128,
   "metadata": {},
   "outputs": [],
   "source": [
    "per_user = df2.groupby('user').event.nunique()"
   ]
  },
  {
   "cell_type": "code",
   "execution_count": 214,
   "metadata": {},
   "outputs": [
    {
     "data": {
      "text/plain": [
       "user\n",
       "54f530089932b01dbcffc89b @ user    3\n",
       "54f530c89932b01dbcffc89c @ user    3\n",
       "54f5ef739932b01dbcffc8a2 @ user    1\n",
       "5509a55b993212d9d6de6e35 @ user    3\n",
       "550a054e993212d9d6de6e3e @ user    4\n",
       "550a6c30993212d9d6de6e63 @ user    5\n",
       "Name: event, dtype: int64"
      ]
     },
     "execution_count": 214,
     "metadata": {},
     "output_type": "execute_result"
    }
   ],
   "source": [
    "per_user[0:6]"
   ]
  },
  {
   "cell_type": "code",
   "execution_count": 132,
   "metadata": {},
   "outputs": [],
   "source": [
    "avg_user = np.mean(per_user)"
   ]
  },
  {
   "cell_type": "code",
   "execution_count": 133,
   "metadata": {},
   "outputs": [
    {
     "name": "stdout",
     "output_type": "stream",
     "text": [
      "3.3987730061349692\n"
     ]
    }
   ],
   "source": [
    "print(avg_user)"
   ]
  },
  {
   "cell_type": "code",
   "execution_count": 444,
   "metadata": {},
   "outputs": [
    {
     "data": {
      "text/plain": [
       "Text(0.5,1,'Number of Events Per User')"
      ]
     },
     "execution_count": 444,
     "metadata": {},
     "output_type": "execute_result"
    },
    {
     "data": {
      "image/png": "[encoded data removed]",
      "text/plain": [
       "<matplotlib.figure.Figure at 0x1e34e84c7b8>"
      ]
     },
     "metadata": {},
     "output_type": "display_data"
    }
   ],
   "source": [
    "plt.figure(2)\n",
    "plt.hist(per_user, bins=50)\n",
    "plt.xlabel('Events')\n",
    "plt.ylabel('Users')\n",
    "plt.title('Number of Events Per User')"
   ]
  },
  {
   "cell_type": "markdown",
   "metadata": {},
   "source": [
    "After some analysis we conclude that the average event per user is 3.4"
   ]
  },
  {
   "cell_type": "markdown",
   "metadata": {},
   "source": [
    "# Average Challenge Per User"
   ]
  },
  {
   "cell_type": "markdown",
   "metadata": {},
   "source": [
    "In this table we are now looking at the relationship bewteen the unique users and challenges to get the average challenge per user."
   ]
  },
  {
   "cell_type": "code",
   "execution_count": 185,
   "metadata": {},
   "outputs": [],
   "source": [
    "df3 = pd.read_csv('Challenge.csv')"
   ]
  },
  {
   "cell_type": "code",
   "execution_count": 215,
   "metadata": {},
   "outputs": [
    {
     "data": {
      "text/html": [
       "<div>\n",
       "<style scoped>\n",
       "    .dataframe tbody tr th:only-of-type {\n",
       "        vertical-align: middle;\n",
       "    }\n",
       "\n",
       "    .dataframe tbody tr th {\n",
       "        vertical-align: top;\n",
       "    }\n",
       "\n",
       "    .dataframe thead th {\n",
       "        text-align: right;\n",
       "    }\n",
       "</style>\n",
       "<table border=\"1\" class=\"dataframe\">\n",
       "  <thead>\n",
       "    <tr style=\"text-align: right;\">\n",
       "      <th></th>\n",
       "      <th>_class</th>\n",
       "      <th>_id</th>\n",
       "      <th>challenge</th>\n",
       "      <th>user</th>\n",
       "    </tr>\n",
       "  </thead>\n",
       "  <tbody>\n",
       "    <tr>\n",
       "      <th>0</th>\n",
       "      <td>com.litekey.alloe.model.challenge.Challenger</td>\n",
       "      <td>54f75fdf993241fc498ec5d8</td>\n",
       "      <td>54f75f0c9932d9d8e63916c1 @ challenge</td>\n",
       "      <td>54f757f4993241fc498ec5d7 @ user</td>\n",
       "    </tr>\n",
       "    <tr>\n",
       "      <th>1</th>\n",
       "      <td>com.litekey.alloe.model.challenge.Challenger</td>\n",
       "      <td>54f7607d993241fc498ec5db</td>\n",
       "      <td>54f75f3a9932d9d8e63916c2 @ challenge</td>\n",
       "      <td>54f757f4993241fc498ec5d7 @ user</td>\n",
       "    </tr>\n",
       "    <tr>\n",
       "      <th>2</th>\n",
       "      <td>com.litekey.alloe.model.challenge.Challenger</td>\n",
       "      <td>54f7698099328bae16b16a69</td>\n",
       "      <td>54f75f0c9932d9d8e63916c1 @ challenge</td>\n",
       "      <td>54f5ef739932b01dbcffc8a2 @ user</td>\n",
       "    </tr>\n",
       "  </tbody>\n",
       "</table>\n",
       "</div>"
      ],
      "text/plain": [
       "                                         _class                       _id  \\\n",
       "0  com.litekey.alloe.model.challenge.Challenger  54f75fdf993241fc498ec5d8   \n",
       "1  com.litekey.alloe.model.challenge.Challenger  54f7607d993241fc498ec5db   \n",
       "2  com.litekey.alloe.model.challenge.Challenger  54f7698099328bae16b16a69   \n",
       "\n",
       "                              challenge                             user  \n",
       "0  54f75f0c9932d9d8e63916c1 @ challenge  54f757f4993241fc498ec5d7 @ user  \n",
       "1  54f75f3a9932d9d8e63916c2 @ challenge  54f757f4993241fc498ec5d7 @ user  \n",
       "2  54f75f0c9932d9d8e63916c1 @ challenge  54f5ef739932b01dbcffc8a2 @ user  "
      ]
     },
     "execution_count": 215,
     "metadata": {},
     "output_type": "execute_result"
    }
   ],
   "source": [
    "df3[0:3]"
   ]
  },
  {
   "cell_type": "code",
   "execution_count": 191,
   "metadata": {},
   "outputs": [],
   "source": [
    "relationship3 = df3.loc[:,['challenge', 'user']]"
   ]
  },
  {
   "cell_type": "code",
   "execution_count": 216,
   "metadata": {},
   "outputs": [
    {
     "data": {
      "text/html": [
       "<div>\n",
       "<style scoped>\n",
       "    .dataframe tbody tr th:only-of-type {\n",
       "        vertical-align: middle;\n",
       "    }\n",
       "\n",
       "    .dataframe tbody tr th {\n",
       "        vertical-align: top;\n",
       "    }\n",
       "\n",
       "    .dataframe thead th {\n",
       "        text-align: right;\n",
       "    }\n",
       "</style>\n",
       "<table border=\"1\" class=\"dataframe\">\n",
       "  <thead>\n",
       "    <tr style=\"text-align: right;\">\n",
       "      <th></th>\n",
       "      <th>challenge</th>\n",
       "      <th>user</th>\n",
       "    </tr>\n",
       "  </thead>\n",
       "  <tbody>\n",
       "    <tr>\n",
       "      <th>0</th>\n",
       "      <td>54f75f0c9932d9d8e63916c1 @ challenge</td>\n",
       "      <td>54f757f4993241fc498ec5d7 @ user</td>\n",
       "    </tr>\n",
       "    <tr>\n",
       "      <th>1</th>\n",
       "      <td>54f75f3a9932d9d8e63916c2 @ challenge</td>\n",
       "      <td>54f757f4993241fc498ec5d7 @ user</td>\n",
       "    </tr>\n",
       "    <tr>\n",
       "      <th>2</th>\n",
       "      <td>54f75f0c9932d9d8e63916c1 @ challenge</td>\n",
       "      <td>54f5ef739932b01dbcffc8a2 @ user</td>\n",
       "    </tr>\n",
       "    <tr>\n",
       "      <th>3</th>\n",
       "      <td>54f75f3a9932d9d8e63916c2 @ challenge</td>\n",
       "      <td>54f5ef739932b01dbcffc8a2 @ user</td>\n",
       "    </tr>\n",
       "    <tr>\n",
       "      <th>4</th>\n",
       "      <td>54f75f3a9932d9d8e63916c2 @ challenge</td>\n",
       "      <td>54f530c89932b01dbcffc89c @ user</td>\n",
       "    </tr>\n",
       "    <tr>\n",
       "      <th>5</th>\n",
       "      <td>54f75f0c9932d9d8e63916c1 @ challenge</td>\n",
       "      <td>54f530c89932b01dbcffc89c @ user</td>\n",
       "    </tr>\n",
       "  </tbody>\n",
       "</table>\n",
       "</div>"
      ],
      "text/plain": [
       "                              challenge                             user\n",
       "0  54f75f0c9932d9d8e63916c1 @ challenge  54f757f4993241fc498ec5d7 @ user\n",
       "1  54f75f3a9932d9d8e63916c2 @ challenge  54f757f4993241fc498ec5d7 @ user\n",
       "2  54f75f0c9932d9d8e63916c1 @ challenge  54f5ef739932b01dbcffc8a2 @ user\n",
       "3  54f75f3a9932d9d8e63916c2 @ challenge  54f5ef739932b01dbcffc8a2 @ user\n",
       "4  54f75f3a9932d9d8e63916c2 @ challenge  54f530c89932b01dbcffc89c @ user\n",
       "5  54f75f0c9932d9d8e63916c1 @ challenge  54f530c89932b01dbcffc89c @ user"
      ]
     },
     "execution_count": 216,
     "metadata": {},
     "output_type": "execute_result"
    }
   ],
   "source": [
    "relationship3[0:6]"
   ]
  },
  {
   "cell_type": "code",
   "execution_count": 198,
   "metadata": {},
   "outputs": [],
   "source": [
    "user_challenge = df3.groupby('user').challenge.nunique()"
   ]
  },
  {
   "cell_type": "code",
   "execution_count": 217,
   "metadata": {},
   "outputs": [
    {
     "data": {
      "text/plain": [
       "user\n",
       "54f530089932b01dbcffc89b @ user     6\n",
       "54f530c89932b01dbcffc89c @ user    14\n",
       "54f5ef739932b01dbcffc8a2 @ user     3\n",
       "54f757f4993241fc498ec5d7 @ user     6\n",
       "5509a55b993212d9d6de6e35 @ user     5\n",
       "550a054e993212d9d6de6e3e @ user     7\n",
       "Name: challenge, dtype: int64"
      ]
     },
     "execution_count": 217,
     "metadata": {},
     "output_type": "execute_result"
    }
   ],
   "source": [
    "user_challenge[0:6]"
   ]
  },
  {
   "cell_type": "code",
   "execution_count": 201,
   "metadata": {},
   "outputs": [],
   "source": [
    "avg_challenge = np.mean(user_challenge)"
   ]
  },
  {
   "cell_type": "code",
   "execution_count": 203,
   "metadata": {},
   "outputs": [
    {
     "name": "stdout",
     "output_type": "stream",
     "text": [
      "2.1969230769230768\n"
     ]
    }
   ],
   "source": [
    "print(avg_challenge)"
   ]
  },
  {
   "cell_type": "code",
   "execution_count": 445,
   "metadata": {},
   "outputs": [
    {
     "data": {
      "text/plain": [
       "Text(0.5,1,'Number of Challenges Per User')"
      ]
     },
     "execution_count": 445,
     "metadata": {},
     "output_type": "execute_result"
    },
    {
     "data": {
      "image/png": "[encoded data removed]",
      "text/plain": [
       "<matplotlib.figure.Figure at 0x1e34e75c898>"
      ]
     },
     "metadata": {},
     "output_type": "display_data"
    }
   ],
   "source": [
    "plt.figure(3)\n",
    "plt.hist(user_challenge, bins=40)\n",
    "plt.xlabel('Challenges')\n",
    "plt.ylabel('Users')\n",
    "plt.title('Number of Challenges Per User')"
   ]
  },
  {
   "cell_type": "markdown",
   "metadata": {},
   "source": [
    "After our analysis we conclude that the average challenge per user is 2.2"
   ]
  },
  {
   "cell_type": "markdown",
   "metadata": {},
   "source": [
    "# Average Challenge Invitation Sent"
   ]
  },
  {
   "cell_type": "markdown",
   "metadata": {},
   "source": [
    "In this table we are analyzing the relationship between the unique users and friends to see how many challenge invitations were sent per user.  "
   ]
  },
  {
   "cell_type": "code",
   "execution_count": 184,
   "metadata": {},
   "outputs": [],
   "source": [
    "df4 = pd.read_csv('Challenges.csv')"
   ]
  },
  {
   "cell_type": "code",
   "execution_count": 218,
   "metadata": {},
   "outputs": [
    {
     "data": {
      "text/html": [
       "<div>\n",
       "<style scoped>\n",
       "    .dataframe tbody tr th:only-of-type {\n",
       "        vertical-align: middle;\n",
       "    }\n",
       "\n",
       "    .dataframe tbody tr th {\n",
       "        vertical-align: top;\n",
       "    }\n",
       "\n",
       "    .dataframe thead th {\n",
       "        text-align: right;\n",
       "    }\n",
       "</style>\n",
       "<table border=\"1\" class=\"dataframe\">\n",
       "  <thead>\n",
       "    <tr style=\"text-align: right;\">\n",
       "      <th></th>\n",
       "      <th>_class</th>\n",
       "      <th>_id</th>\n",
       "      <th>challenge</th>\n",
       "      <th>date</th>\n",
       "      <th>friend</th>\n",
       "      <th>user</th>\n",
       "    </tr>\n",
       "  </thead>\n",
       "  <tbody>\n",
       "    <tr>\n",
       "      <th>0</th>\n",
       "      <td>com.litekey.alloe.model.challenge.ChallengeInv...</td>\n",
       "      <td>54f7698699328bae16b16a6d</td>\n",
       "      <td>54f75f0c9932d9d8e63916c1 @ challenge</td>\n",
       "      <td>2015-03-04T20:22:30.933Z</td>\n",
       "      <td>54f5ef739932b01dbcffc8a2 @ user</td>\n",
       "      <td>54f530c89932b01dbcffc89c @ user</td>\n",
       "    </tr>\n",
       "    <tr>\n",
       "      <th>1</th>\n",
       "      <td>com.litekey.alloe.model.challenge.ChallengeInv...</td>\n",
       "      <td>54f769e599328bae16b16a73</td>\n",
       "      <td>54f75f3a9932d9d8e63916c2 @ challenge</td>\n",
       "      <td>2015-03-04T20:24:05.017Z</td>\n",
       "      <td>54f5ef739932b01dbcffc8a2 @ user</td>\n",
       "      <td>54f530c89932b01dbcffc89c @ user</td>\n",
       "    </tr>\n",
       "    <tr>\n",
       "      <th>2</th>\n",
       "      <td>com.litekey.alloe.model.challenge.ChallengeInv...</td>\n",
       "      <td>54f7796299328bae16b16ab5</td>\n",
       "      <td>54f75f3a9932d9d8e63916c2 @ challenge</td>\n",
       "      <td>2015-03-04T21:30:10.134Z</td>\n",
       "      <td>54f757f4993241fc498ec5d7 @ user</td>\n",
       "      <td>54f530089932b01dbcffc89b @ user</td>\n",
       "    </tr>\n",
       "  </tbody>\n",
       "</table>\n",
       "</div>"
      ],
      "text/plain": [
       "                                              _class  \\\n",
       "0  com.litekey.alloe.model.challenge.ChallengeInv...   \n",
       "1  com.litekey.alloe.model.challenge.ChallengeInv...   \n",
       "2  com.litekey.alloe.model.challenge.ChallengeInv...   \n",
       "\n",
       "                        _id                             challenge  \\\n",
       "0  54f7698699328bae16b16a6d  54f75f0c9932d9d8e63916c1 @ challenge   \n",
       "1  54f769e599328bae16b16a73  54f75f3a9932d9d8e63916c2 @ challenge   \n",
       "2  54f7796299328bae16b16ab5  54f75f3a9932d9d8e63916c2 @ challenge   \n",
       "\n",
       "                       date                           friend  \\\n",
       "0  2015-03-04T20:22:30.933Z  54f5ef739932b01dbcffc8a2 @ user   \n",
       "1  2015-03-04T20:24:05.017Z  54f5ef739932b01dbcffc8a2 @ user   \n",
       "2  2015-03-04T21:30:10.134Z  54f757f4993241fc498ec5d7 @ user   \n",
       "\n",
       "                              user  \n",
       "0  54f530c89932b01dbcffc89c @ user  \n",
       "1  54f530c89932b01dbcffc89c @ user  \n",
       "2  54f530089932b01dbcffc89b @ user  "
      ]
     },
     "execution_count": 218,
     "metadata": {},
     "output_type": "execute_result"
    }
   ],
   "source": [
    "df4[0:3]"
   ]
  },
  {
   "cell_type": "code",
   "execution_count": 188,
   "metadata": {},
   "outputs": [],
   "source": [
    "relationship4 = df4.loc[:,['friend','user']]"
   ]
  },
  {
   "cell_type": "code",
   "execution_count": 219,
   "metadata": {},
   "outputs": [
    {
     "data": {
      "text/html": [
       "<div>\n",
       "<style scoped>\n",
       "    .dataframe tbody tr th:only-of-type {\n",
       "        vertical-align: middle;\n",
       "    }\n",
       "\n",
       "    .dataframe tbody tr th {\n",
       "        vertical-align: top;\n",
       "    }\n",
       "\n",
       "    .dataframe thead th {\n",
       "        text-align: right;\n",
       "    }\n",
       "</style>\n",
       "<table border=\"1\" class=\"dataframe\">\n",
       "  <thead>\n",
       "    <tr style=\"text-align: right;\">\n",
       "      <th></th>\n",
       "      <th>friend</th>\n",
       "      <th>user</th>\n",
       "    </tr>\n",
       "  </thead>\n",
       "  <tbody>\n",
       "    <tr>\n",
       "      <th>0</th>\n",
       "      <td>54f5ef739932b01dbcffc8a2 @ user</td>\n",
       "      <td>54f530c89932b01dbcffc89c @ user</td>\n",
       "    </tr>\n",
       "    <tr>\n",
       "      <th>1</th>\n",
       "      <td>54f5ef739932b01dbcffc8a2 @ user</td>\n",
       "      <td>54f530c89932b01dbcffc89c @ user</td>\n",
       "    </tr>\n",
       "    <tr>\n",
       "      <th>2</th>\n",
       "      <td>54f757f4993241fc498ec5d7 @ user</td>\n",
       "      <td>54f530089932b01dbcffc89b @ user</td>\n",
       "    </tr>\n",
       "    <tr>\n",
       "      <th>3</th>\n",
       "      <td>54f530089932b01dbcffc89b @ user</td>\n",
       "      <td>54f757f4993241fc498ec5d7 @ user</td>\n",
       "    </tr>\n",
       "    <tr>\n",
       "      <th>4</th>\n",
       "      <td>550a6c30993212d9d6de6e63 @ user</td>\n",
       "      <td>550b0e7a993212d9d6de6e86 @ user</td>\n",
       "    </tr>\n",
       "    <tr>\n",
       "      <th>5</th>\n",
       "      <td>550a6c30993212d9d6de6e63 @ user</td>\n",
       "      <td>550af727993212d9d6de6e76 @ user</td>\n",
       "    </tr>\n",
       "  </tbody>\n",
       "</table>\n",
       "</div>"
      ],
      "text/plain": [
       "                            friend                             user\n",
       "0  54f5ef739932b01dbcffc8a2 @ user  54f530c89932b01dbcffc89c @ user\n",
       "1  54f5ef739932b01dbcffc8a2 @ user  54f530c89932b01dbcffc89c @ user\n",
       "2  54f757f4993241fc498ec5d7 @ user  54f530089932b01dbcffc89b @ user\n",
       "3  54f530089932b01dbcffc89b @ user  54f757f4993241fc498ec5d7 @ user\n",
       "4  550a6c30993212d9d6de6e63 @ user  550b0e7a993212d9d6de6e86 @ user\n",
       "5  550a6c30993212d9d6de6e63 @ user  550af727993212d9d6de6e76 @ user"
      ]
     },
     "execution_count": 219,
     "metadata": {},
     "output_type": "execute_result"
    }
   ],
   "source": [
    "relationship4[0:6]"
   ]
  },
  {
   "cell_type": "code",
   "execution_count": 171,
   "metadata": {},
   "outputs": [],
   "source": [
    "challenge_invitation = df4.groupby('user').friend.nunique()"
   ]
  },
  {
   "cell_type": "code",
   "execution_count": 221,
   "metadata": {},
   "outputs": [
    {
     "data": {
      "text/plain": [
       "user\n",
       "54f530089932b01dbcffc89b @ user    1\n",
       "54f530c89932b01dbcffc89c @ user    1\n",
       "54f757f4993241fc498ec5d7 @ user    2\n",
       "5509a55b993212d9d6de6e35 @ user    1\n",
       "550a054e993212d9d6de6e3e @ user    2\n",
       "550a6c30993212d9d6de6e63 @ user    3\n",
       "Name: friend, dtype: int64"
      ]
     },
     "execution_count": 221,
     "metadata": {},
     "output_type": "execute_result"
    }
   ],
   "source": [
    "challenge_invitation[0:6]"
   ]
  },
  {
   "cell_type": "code",
   "execution_count": 175,
   "metadata": {},
   "outputs": [
    {
     "name": "stdout",
     "output_type": "stream",
     "text": [
      "1.2765957446808511\n"
     ]
    }
   ],
   "source": [
    "avg_challenge = np.mean(challenge_invitation)\n",
    "print(avg_challenge)"
   ]
  },
  {
   "cell_type": "code",
   "execution_count": 446,
   "metadata": {},
   "outputs": [
    {
     "data": {
      "text/plain": [
       "Text(0.5,1,'Number of Challenge Invitations Sent Per User')"
      ]
     },
     "execution_count": 446,
     "metadata": {},
     "output_type": "execute_result"
    },
    {
     "data": {
      "image/png": "[encoded data removed]",
      "text/plain": [
       "<matplotlib.figure.Figure at 0x1e34e9c3978>"
      ]
     },
     "metadata": {},
     "output_type": "display_data"
    }
   ],
   "source": [
    "plt.figure(4)\n",
    "plt.hist(challenge_invitation, bins=40)\n",
    "plt.xlabel('Challenge Invitations Sent')\n",
    "plt.ylabel('Users')\n",
    "plt.title('Number of Challenge Invitations Sent Per User')"
   ]
  },
  {
   "cell_type": "markdown",
   "metadata": {},
   "source": [
    "# Actions Performed Per User"
   ]
  },
  {
   "cell_type": "markdown",
   "metadata": {},
   "source": [
    "In this table, we are analyzing the total number of actions each user is performing."
   ]
  },
  {
   "cell_type": "code",
   "execution_count": 380,
   "metadata": {},
   "outputs": [],
   "source": [
    "df5 = pd.read_csv('Userpostaction.csv')\n",
    "df5.columns =  ('class', 'id', 'comment.comment', 'comment.date', 'comment', 'date', 'friend', 'like.date', 'like','post','read','user')"
   ]
  },
  {
   "cell_type": "code",
   "execution_count": 381,
   "metadata": {},
   "outputs": [
    {
     "data": {
      "text/html": [
       "<div>\n",
       "<style scoped>\n",
       "    .dataframe tbody tr th:only-of-type {\n",
       "        vertical-align: middle;\n",
       "    }\n",
       "\n",
       "    .dataframe tbody tr th {\n",
       "        vertical-align: top;\n",
       "    }\n",
       "\n",
       "    .dataframe thead th {\n",
       "        text-align: right;\n",
       "    }\n",
       "</style>\n",
       "<table border=\"1\" class=\"dataframe\">\n",
       "  <thead>\n",
       "    <tr style=\"text-align: right;\">\n",
       "      <th></th>\n",
       "      <th>class</th>\n",
       "      <th>id</th>\n",
       "      <th>comment.comment</th>\n",
       "      <th>comment.date</th>\n",
       "      <th>comment</th>\n",
       "      <th>date</th>\n",
       "      <th>friend</th>\n",
       "      <th>like.date</th>\n",
       "      <th>like</th>\n",
       "      <th>post</th>\n",
       "      <th>read</th>\n",
       "      <th>user</th>\n",
       "    </tr>\n",
       "  </thead>\n",
       "  <tbody>\n",
       "    <tr>\n",
       "      <th>0</th>\n",
       "      <td>com.litekey.alloe.model.FriendshipRequestNotif...</td>\n",
       "      <td>54f5efce9932b01dbcffc8a5</td>\n",
       "      <td>NaN</td>\n",
       "      <td>NaN</td>\n",
       "      <td>NaN</td>\n",
       "      <td>2015-03-03T17:30:54.901Z</td>\n",
       "      <td>54f5ef739932b01dbcffc8a2 @ user</td>\n",
       "      <td>NaN</td>\n",
       "      <td>NaN</td>\n",
       "      <td>NaN</td>\n",
       "      <td>True</td>\n",
       "      <td>54f530c89932b01dbcffc89c @ user</td>\n",
       "    </tr>\n",
       "    <tr>\n",
       "      <th>1</th>\n",
       "      <td>com.litekey.alloe.model.FriendshipAcceptedNoti...</td>\n",
       "      <td>54f5efd49932b01dbcffc8a6</td>\n",
       "      <td>NaN</td>\n",
       "      <td>NaN</td>\n",
       "      <td>NaN</td>\n",
       "      <td>2015-03-03T17:31:00.420Z</td>\n",
       "      <td>54f530c89932b01dbcffc89c @ user</td>\n",
       "      <td>NaN</td>\n",
       "      <td>NaN</td>\n",
       "      <td>NaN</td>\n",
       "      <td>True</td>\n",
       "      <td>54f5ef739932b01dbcffc8a2 @ user</td>\n",
       "    </tr>\n",
       "    <tr>\n",
       "      <th>2</th>\n",
       "      <td>com.litekey.alloe.model.post.LikeNotification</td>\n",
       "      <td>54f5efe69932b01dbcffc8a9</td>\n",
       "      <td>NaN</td>\n",
       "      <td>NaN</td>\n",
       "      <td>NaN</td>\n",
       "      <td>2015-03-03T17:31:18.741Z</td>\n",
       "      <td>NaN</td>\n",
       "      <td>2015-03-03T17:31:18.739Z</td>\n",
       "      <td>54f5ef739932b01dbcffc8a2 @ user</td>\n",
       "      <td>54f5da309932b01dbcffc8a0 @ post</td>\n",
       "      <td>True</td>\n",
       "      <td>54f530c89932b01dbcffc89c @ user</td>\n",
       "    </tr>\n",
       "  </tbody>\n",
       "</table>\n",
       "</div>"
      ],
      "text/plain": [
       "                                               class  \\\n",
       "0  com.litekey.alloe.model.FriendshipRequestNotif...   \n",
       "1  com.litekey.alloe.model.FriendshipAcceptedNoti...   \n",
       "2      com.litekey.alloe.model.post.LikeNotification   \n",
       "\n",
       "                         id comment.comment comment.date comment  \\\n",
       "0  54f5efce9932b01dbcffc8a5             NaN          NaN     NaN   \n",
       "1  54f5efd49932b01dbcffc8a6             NaN          NaN     NaN   \n",
       "2  54f5efe69932b01dbcffc8a9             NaN          NaN     NaN   \n",
       "\n",
       "                       date                           friend  \\\n",
       "0  2015-03-03T17:30:54.901Z  54f5ef739932b01dbcffc8a2 @ user   \n",
       "1  2015-03-03T17:31:00.420Z  54f530c89932b01dbcffc89c @ user   \n",
       "2  2015-03-03T17:31:18.741Z                              NaN   \n",
       "\n",
       "                  like.date                             like  \\\n",
       "0                       NaN                              NaN   \n",
       "1                       NaN                              NaN   \n",
       "2  2015-03-03T17:31:18.739Z  54f5ef739932b01dbcffc8a2 @ user   \n",
       "\n",
       "                              post  read                             user  \n",
       "0                              NaN  True  54f530c89932b01dbcffc89c @ user  \n",
       "1                              NaN  True  54f5ef739932b01dbcffc8a2 @ user  \n",
       "2  54f5da309932b01dbcffc8a0 @ post  True  54f530c89932b01dbcffc89c @ user  "
      ]
     },
     "execution_count": 381,
     "metadata": {},
     "output_type": "execute_result"
    }
   ],
   "source": [
    "df5[0:3]"
   ]
  },
  {
   "cell_type": "code",
   "execution_count": 382,
   "metadata": {},
   "outputs": [],
   "source": [
    "relationship5 =  df5.loc[:,['comment','like','read','user']]"
   ]
  },
  {
   "cell_type": "code",
   "execution_count": 250,
   "metadata": {},
   "outputs": [
    {
     "data": {
      "text/html": [
       "<div>\n",
       "<style scoped>\n",
       "    .dataframe tbody tr th:only-of-type {\n",
       "        vertical-align: middle;\n",
       "    }\n",
       "\n",
       "    .dataframe tbody tr th {\n",
       "        vertical-align: top;\n",
       "    }\n",
       "\n",
       "    .dataframe thead th {\n",
       "        text-align: right;\n",
       "    }\n",
       "</style>\n",
       "<table border=\"1\" class=\"dataframe\">\n",
       "  <thead>\n",
       "    <tr style=\"text-align: right;\">\n",
       "      <th></th>\n",
       "      <th>comment.user</th>\n",
       "      <th>like.user</th>\n",
       "      <th>read</th>\n",
       "      <th>user</th>\n",
       "    </tr>\n",
       "  </thead>\n",
       "  <tbody>\n",
       "    <tr>\n",
       "      <th>0</th>\n",
       "      <td>NaN</td>\n",
       "      <td>NaN</td>\n",
       "      <td>True</td>\n",
       "      <td>54f530c89932b01dbcffc89c @ user</td>\n",
       "    </tr>\n",
       "    <tr>\n",
       "      <th>1</th>\n",
       "      <td>NaN</td>\n",
       "      <td>NaN</td>\n",
       "      <td>True</td>\n",
       "      <td>54f5ef739932b01dbcffc8a2 @ user</td>\n",
       "    </tr>\n",
       "    <tr>\n",
       "      <th>2</th>\n",
       "      <td>NaN</td>\n",
       "      <td>54f5ef739932b01dbcffc8a2 @ user</td>\n",
       "      <td>True</td>\n",
       "      <td>54f530c89932b01dbcffc89c @ user</td>\n",
       "    </tr>\n",
       "    <tr>\n",
       "      <th>3</th>\n",
       "      <td>54f5ef739932b01dbcffc8a2 @ user</td>\n",
       "      <td>NaN</td>\n",
       "      <td>True</td>\n",
       "      <td>54f530c89932b01dbcffc89c @ user</td>\n",
       "    </tr>\n",
       "    <tr>\n",
       "      <th>4</th>\n",
       "      <td>NaN</td>\n",
       "      <td>54f5ef739932b01dbcffc8a2 @ user</td>\n",
       "      <td>True</td>\n",
       "      <td>54f530c89932b01dbcffc89c @ user</td>\n",
       "    </tr>\n",
       "    <tr>\n",
       "      <th>5</th>\n",
       "      <td>NaN</td>\n",
       "      <td>54f530c89932b01dbcffc89c @ user</td>\n",
       "      <td>True</td>\n",
       "      <td>54f5ef739932b01dbcffc8a2 @ user</td>\n",
       "    </tr>\n",
       "  </tbody>\n",
       "</table>\n",
       "</div>"
      ],
      "text/plain": [
       "                      comment.user                        like.user  read  \\\n",
       "0                              NaN                              NaN  True   \n",
       "1                              NaN                              NaN  True   \n",
       "2                              NaN  54f5ef739932b01dbcffc8a2 @ user  True   \n",
       "3  54f5ef739932b01dbcffc8a2 @ user                              NaN  True   \n",
       "4                              NaN  54f5ef739932b01dbcffc8a2 @ user  True   \n",
       "5                              NaN  54f530c89932b01dbcffc89c @ user  True   \n",
       "\n",
       "                              user  \n",
       "0  54f530c89932b01dbcffc89c @ user  \n",
       "1  54f5ef739932b01dbcffc8a2 @ user  \n",
       "2  54f530c89932b01dbcffc89c @ user  \n",
       "3  54f530c89932b01dbcffc89c @ user  \n",
       "4  54f530c89932b01dbcffc89c @ user  \n",
       "5  54f5ef739932b01dbcffc8a2 @ user  "
      ]
     },
     "execution_count": 250,
     "metadata": {},
     "output_type": "execute_result"
    }
   ],
   "source": [
    "relationship5[0:6]"
   ]
  },
  {
   "cell_type": "code",
   "execution_count": 462,
   "metadata": {},
   "outputs": [],
   "source": [
    "performing_action = df5.groupby('user')['comment','like','read'].count()\n",
    "performing_action1 = df5.groupby('user').comment.count()\n",
    "performing_action2 = df5.groupby('user').like.count()\n",
    "performing_action3 = df5.groupby('user').read.count()"
   ]
  },
  {
   "cell_type": "code",
   "execution_count": 463,
   "metadata": {},
   "outputs": [
    {
     "data": {
      "text/html": [
       "<div>\n",
       "<style scoped>\n",
       "    .dataframe tbody tr th:only-of-type {\n",
       "        vertical-align: middle;\n",
       "    }\n",
       "\n",
       "    .dataframe tbody tr th {\n",
       "        vertical-align: top;\n",
       "    }\n",
       "\n",
       "    .dataframe thead th {\n",
       "        text-align: right;\n",
       "    }\n",
       "</style>\n",
       "<table border=\"1\" class=\"dataframe\">\n",
       "  <thead>\n",
       "    <tr style=\"text-align: right;\">\n",
       "      <th></th>\n",
       "      <th>comment</th>\n",
       "      <th>like</th>\n",
       "      <th>read</th>\n",
       "    </tr>\n",
       "    <tr>\n",
       "      <th>user</th>\n",
       "      <th></th>\n",
       "      <th></th>\n",
       "      <th></th>\n",
       "    </tr>\n",
       "  </thead>\n",
       "  <tbody>\n",
       "    <tr>\n",
       "      <th>54f530089932b01dbcffc89b @ user</th>\n",
       "      <td>2</td>\n",
       "      <td>8</td>\n",
       "      <td>21</td>\n",
       "    </tr>\n",
       "    <tr>\n",
       "      <th>54f530c89932b01dbcffc89c @ user</th>\n",
       "      <td>6</td>\n",
       "      <td>36</td>\n",
       "      <td>78</td>\n",
       "    </tr>\n",
       "    <tr>\n",
       "      <th>54f5ef739932b01dbcffc8a2 @ user</th>\n",
       "      <td>5</td>\n",
       "      <td>22</td>\n",
       "      <td>43</td>\n",
       "    </tr>\n",
       "    <tr>\n",
       "      <th>54f757f4993241fc498ec5d7 @ user</th>\n",
       "      <td>4</td>\n",
       "      <td>22</td>\n",
       "      <td>42</td>\n",
       "    </tr>\n",
       "    <tr>\n",
       "      <th>54f8f6f59932ce1b71e7317a @ user</th>\n",
       "      <td>0</td>\n",
       "      <td>0</td>\n",
       "      <td>1</td>\n",
       "    </tr>\n",
       "    <tr>\n",
       "      <th>54fe33869932ce1b71e73193 @ user</th>\n",
       "      <td>0</td>\n",
       "      <td>0</td>\n",
       "      <td>3</td>\n",
       "    </tr>\n",
       "    <tr>\n",
       "      <th>54fe49989932ce1b71e73194 @ user</th>\n",
       "      <td>0</td>\n",
       "      <td>0</td>\n",
       "      <td>2</td>\n",
       "    </tr>\n",
       "    <tr>\n",
       "      <th>5509a55b993212d9d6de6e35 @ user</th>\n",
       "      <td>3</td>\n",
       "      <td>71</td>\n",
       "      <td>118</td>\n",
       "    </tr>\n",
       "    <tr>\n",
       "      <th>550a054e993212d9d6de6e3e @ user</th>\n",
       "      <td>1</td>\n",
       "      <td>80</td>\n",
       "      <td>135</td>\n",
       "    </tr>\n",
       "    <tr>\n",
       "      <th>550a1875993212d9d6de6e4e @ user</th>\n",
       "      <td>0</td>\n",
       "      <td>0</td>\n",
       "      <td>28</td>\n",
       "    </tr>\n",
       "  </tbody>\n",
       "</table>\n",
       "</div>"
      ],
      "text/plain": [
       "                                 comment  like  read\n",
       "user                                                \n",
       "54f530089932b01dbcffc89b @ user        2     8    21\n",
       "54f530c89932b01dbcffc89c @ user        6    36    78\n",
       "54f5ef739932b01dbcffc8a2 @ user        5    22    43\n",
       "54f757f4993241fc498ec5d7 @ user        4    22    42\n",
       "54f8f6f59932ce1b71e7317a @ user        0     0     1\n",
       "54fe33869932ce1b71e73193 @ user        0     0     3\n",
       "54fe49989932ce1b71e73194 @ user        0     0     2\n",
       "5509a55b993212d9d6de6e35 @ user        3    71   118\n",
       "550a054e993212d9d6de6e3e @ user        1    80   135\n",
       "550a1875993212d9d6de6e4e @ user        0     0    28"
      ]
     },
     "execution_count": 463,
     "metadata": {},
     "output_type": "execute_result"
    }
   ],
   "source": [
    "performing_action[0:10]"
   ]
  },
  {
   "cell_type": "code",
   "execution_count": 461,
   "metadata": {},
   "outputs": [
    {
     "name": "stdout",
     "output_type": "stream",
     "text": [
      "comment     0.237762\n",
      "like       14.354312\n",
      "read       31.986014\n",
      "dtype: float64\n"
     ]
    }
   ],
   "source": [
    "avg_action = np.mean(performing_action)\n",
    "print(avg_action)"
   ]
  },
  {
   "cell_type": "code",
   "execution_count": 413,
   "metadata": {},
   "outputs": [
    {
     "data": {
      "text/plain": [
       "user\n",
       "54f530089932b01dbcffc89b @ user    2\n",
       "54f530c89932b01dbcffc89c @ user    6\n",
       "54f5ef739932b01dbcffc8a2 @ user    5\n",
       "54f757f4993241fc498ec5d7 @ user    4\n",
       "54f8f6f59932ce1b71e7317a @ user    0\n",
       "54fe33869932ce1b71e73193 @ user    0\n",
       "54fe49989932ce1b71e73194 @ user    0\n",
       "5509a55b993212d9d6de6e35 @ user    3\n",
       "550a054e993212d9d6de6e3e @ user    1\n",
       "550a1875993212d9d6de6e4e @ user    0\n",
       "Name: comment, dtype: int64"
      ]
     },
     "execution_count": 413,
     "metadata": {},
     "output_type": "execute_result"
    }
   ],
   "source": [
    "performing_action1[0:10]"
   ]
  },
  {
   "cell_type": "code",
   "execution_count": 414,
   "metadata": {},
   "outputs": [
    {
     "data": {
      "text/plain": [
       "user\n",
       "54f530089932b01dbcffc89b @ user     8\n",
       "54f530c89932b01dbcffc89c @ user    36\n",
       "54f5ef739932b01dbcffc8a2 @ user    22\n",
       "54f757f4993241fc498ec5d7 @ user    22\n",
       "54f8f6f59932ce1b71e7317a @ user     0\n",
       "54fe33869932ce1b71e73193 @ user     0\n",
       "54fe49989932ce1b71e73194 @ user     0\n",
       "5509a55b993212d9d6de6e35 @ user    71\n",
       "550a054e993212d9d6de6e3e @ user    80\n",
       "550a1875993212d9d6de6e4e @ user     0\n",
       "Name: like, dtype: int64"
      ]
     },
     "execution_count": 414,
     "metadata": {},
     "output_type": "execute_result"
    }
   ],
   "source": [
    "performing_action2[0:10]"
   ]
  },
  {
   "cell_type": "code",
   "execution_count": 415,
   "metadata": {},
   "outputs": [
    {
     "data": {
      "text/plain": [
       "user\n",
       "54f530089932b01dbcffc89b @ user     21\n",
       "54f530c89932b01dbcffc89c @ user     78\n",
       "54f5ef739932b01dbcffc8a2 @ user     43\n",
       "54f757f4993241fc498ec5d7 @ user     42\n",
       "54f8f6f59932ce1b71e7317a @ user      1\n",
       "54fe33869932ce1b71e73193 @ user      3\n",
       "54fe49989932ce1b71e73194 @ user      2\n",
       "5509a55b993212d9d6de6e35 @ user    118\n",
       "550a054e993212d9d6de6e3e @ user    135\n",
       "550a1875993212d9d6de6e4e @ user     28\n",
       "Name: read, dtype: int64"
      ]
     },
     "execution_count": 415,
     "metadata": {},
     "output_type": "execute_result"
    }
   ],
   "source": [
    "performing_action3[0:10]"
   ]
  },
  {
   "cell_type": "code",
   "execution_count": 465,
   "metadata": {},
   "outputs": [
    {
     "data": {
      "text/plain": [
       "<matplotlib.legend.Legend at 0x1e34ebfd080>"
      ]
     },
     "execution_count": 465,
     "metadata": {},
     "output_type": "execute_result"
    },
    {
     "data": {
      "image/png": "[encoded data removed]",
      "text/plain": [
       "<matplotlib.figure.Figure at 0x1e34e925eb8>"
      ]
     },
     "metadata": {},
     "output_type": "display_data"
    }
   ],
   "source": [
    "plt.figure(5)\n",
    "plt.hist(performing_action1, bins=1, label='comment',fc=(0, 0, 1, 0.5))\n",
    "plt.hist(performing_action2, bins=10, label='like', fc=(1, 0, 0, 0.5))\n",
    "plt.hist(performing_action3, bins=10, label='read', fc=(0, 0, 0, 0.5))\n",
    "plt.xlabel('Actions Performed')\n",
    "plt.ylabel('Users')\n",
    "plt.title('Number of Actions Performed Per User')\n",
    "plt.legend(loc = 'best')"
   ]
  },
  {
   "cell_type": "code",
   "execution_count": 466,
   "metadata": {},
   "outputs": [
    {
     "data": {
      "text/plain": [
       "([array([407.,   0.,   0.,   0.,   0.,   2.,  14.,   0.,   3.,   3.]),\n",
       "  array([237.,   0.,   0.,   3.,   9.,  21.,  27.,  15.,  51.,  66.]),\n",
       "  array([ 23.,   0.,   0.,  10.,  40.,  42.,  47.,  28.,  96., 143.])],\n",
       " array([  0. ,  12.2,  24.4,  36.6,  48.8,  61. ,  73.2,  85.4,  97.6,\n",
       "        109.8, 122. ]),\n",
       " <a list of 3 Lists of Patches objects>)"
      ]
     },
     "execution_count": 466,
     "metadata": {},
     "output_type": "execute_result"
    },
    {
     "data": {
      "image/png": "[encoded data removed]",
      "text/plain": [
       "<matplotlib.figure.Figure at 0x1e34eab58d0>"
      ]
     },
     "metadata": {},
     "output_type": "display_data"
    }
   ],
   "source": [
    "plt.figure(7)\n",
    "plt.hist(performing_action, bins=10)"
   ]
  },
  {
   "cell_type": "markdown",
   "metadata": {},
   "source": [
    "# Number of User Logins"
   ]
  },
  {
   "cell_type": "markdown",
   "metadata": {},
   "source": [
    "In this table we are analyzing each unique user, with the date to find the numner of user logins.  Each date indicates when a user has logged into the app."
   ]
  },
  {
   "cell_type": "code",
   "execution_count": 370,
   "metadata": {},
   "outputs": [],
   "source": [
    "df6 = pd.read_csv('timeline_data.csv')"
   ]
  },
  {
   "cell_type": "code",
   "execution_count": 283,
   "metadata": {},
   "outputs": [
    {
     "data": {
      "text/html": [
       "<div>\n",
       "<style scoped>\n",
       "    .dataframe tbody tr th:only-of-type {\n",
       "        vertical-align: middle;\n",
       "    }\n",
       "\n",
       "    .dataframe tbody tr th {\n",
       "        vertical-align: top;\n",
       "    }\n",
       "\n",
       "    .dataframe thead th {\n",
       "        text-align: right;\n",
       "    }\n",
       "</style>\n",
       "<table border=\"1\" class=\"dataframe\">\n",
       "  <thead>\n",
       "    <tr style=\"text-align: right;\">\n",
       "      <th></th>\n",
       "      <th>_class</th>\n",
       "      <th>_id</th>\n",
       "      <th>commented</th>\n",
       "      <th>date</th>\n",
       "      <th>liked</th>\n",
       "      <th>post</th>\n",
       "      <th>postType</th>\n",
       "      <th>postUser</th>\n",
       "      <th>user</th>\n",
       "    </tr>\n",
       "  </thead>\n",
       "  <tbody>\n",
       "    <tr>\n",
       "      <th>0</th>\n",
       "      <td>com.litekey.alloe.model.post.Timeline</td>\n",
       "      <td>5852254d0cf29a170f2d075a</td>\n",
       "      <td>False</td>\n",
       "      <td>2016-09-19T16:04:18.697Z</td>\n",
       "      <td>False</td>\n",
       "      <td>57e00c820cf2338dfb07103c @ post</td>\n",
       "      <td>NaN</td>\n",
       "      <td>564e5a8c0cf2721b170daf19 @ user</td>\n",
       "      <td>57c083860cf23f4261a7d028 @ user</td>\n",
       "    </tr>\n",
       "    <tr>\n",
       "      <th>1</th>\n",
       "      <td>com.litekey.alloe.model.post.Timeline</td>\n",
       "      <td>5852254d0cf29a170f2d075b</td>\n",
       "      <td>False</td>\n",
       "      <td>2016-09-25T18:38:36.551Z</td>\n",
       "      <td>False</td>\n",
       "      <td>57e819ac0cf2338dfb0724e9 @ post</td>\n",
       "      <td>NaN</td>\n",
       "      <td>564e5a8c0cf2721b170daf19 @ user</td>\n",
       "      <td>57c083860cf23f4261a7d028 @ user</td>\n",
       "    </tr>\n",
       "    <tr>\n",
       "      <th>2</th>\n",
       "      <td>com.litekey.alloe.model.post.Timeline</td>\n",
       "      <td>5852254d0cf29a170f2d075c</td>\n",
       "      <td>False</td>\n",
       "      <td>2016-09-26T20:00:33.773Z</td>\n",
       "      <td>False</td>\n",
       "      <td>57e97e610cf2338dfb0727db @ post</td>\n",
       "      <td>NaN</td>\n",
       "      <td>564e5a8c0cf2721b170daf19 @ user</td>\n",
       "      <td>57c083860cf23f4261a7d028 @ user</td>\n",
       "    </tr>\n",
       "    <tr>\n",
       "      <th>3</th>\n",
       "      <td>com.litekey.alloe.model.post.Timeline</td>\n",
       "      <td>5852254d0cf29a170f2d075d</td>\n",
       "      <td>False</td>\n",
       "      <td>2016-09-27T15:38:57.909Z</td>\n",
       "      <td>False</td>\n",
       "      <td>57ea92910cf2338dfb072bce @ post</td>\n",
       "      <td>NaN</td>\n",
       "      <td>564e5a8c0cf2721b170daf19 @ user</td>\n",
       "      <td>57c083860cf23f4261a7d028 @ user</td>\n",
       "    </tr>\n",
       "    <tr>\n",
       "      <th>4</th>\n",
       "      <td>com.litekey.alloe.model.post.Timeline</td>\n",
       "      <td>5852254d0cf29a170f2d075e</td>\n",
       "      <td>False</td>\n",
       "      <td>2016-09-28T22:02:46.513Z</td>\n",
       "      <td>False</td>\n",
       "      <td>57ec3e060cf2338dfb073414 @ post</td>\n",
       "      <td>NaN</td>\n",
       "      <td>564e5a8c0cf2721b170daf19 @ user</td>\n",
       "      <td>57c083860cf23f4261a7d028 @ user</td>\n",
       "    </tr>\n",
       "    <tr>\n",
       "      <th>5</th>\n",
       "      <td>com.litekey.alloe.model.post.Timeline</td>\n",
       "      <td>5852254d0cf29a170f2d075f</td>\n",
       "      <td>False</td>\n",
       "      <td>2016-10-03T16:57:02.317Z</td>\n",
       "      <td>False</td>\n",
       "      <td>57f28dde0cf2338dfb074fdb @ post</td>\n",
       "      <td>NaN</td>\n",
       "      <td>564e5a8c0cf2721b170daf19 @ user</td>\n",
       "      <td>57c083860cf23f4261a7d028 @ user</td>\n",
       "    </tr>\n",
       "  </tbody>\n",
       "</table>\n",
       "</div>"
      ],
      "text/plain": [
       "                                  _class                       _id  commented  \\\n",
       "0  com.litekey.alloe.model.post.Timeline  5852254d0cf29a170f2d075a      False   \n",
       "1  com.litekey.alloe.model.post.Timeline  5852254d0cf29a170f2d075b      False   \n",
       "2  com.litekey.alloe.model.post.Timeline  5852254d0cf29a170f2d075c      False   \n",
       "3  com.litekey.alloe.model.post.Timeline  5852254d0cf29a170f2d075d      False   \n",
       "4  com.litekey.alloe.model.post.Timeline  5852254d0cf29a170f2d075e      False   \n",
       "5  com.litekey.alloe.model.post.Timeline  5852254d0cf29a170f2d075f      False   \n",
       "\n",
       "                       date  liked                             post postType  \\\n",
       "0  2016-09-19T16:04:18.697Z  False  57e00c820cf2338dfb07103c @ post      NaN   \n",
       "1  2016-09-25T18:38:36.551Z  False  57e819ac0cf2338dfb0724e9 @ post      NaN   \n",
       "2  2016-09-26T20:00:33.773Z  False  57e97e610cf2338dfb0727db @ post      NaN   \n",
       "3  2016-09-27T15:38:57.909Z  False  57ea92910cf2338dfb072bce @ post      NaN   \n",
       "4  2016-09-28T22:02:46.513Z  False  57ec3e060cf2338dfb073414 @ post      NaN   \n",
       "5  2016-10-03T16:57:02.317Z  False  57f28dde0cf2338dfb074fdb @ post      NaN   \n",
       "\n",
       "                          postUser                             user  \n",
       "0  564e5a8c0cf2721b170daf19 @ user  57c083860cf23f4261a7d028 @ user  \n",
       "1  564e5a8c0cf2721b170daf19 @ user  57c083860cf23f4261a7d028 @ user  \n",
       "2  564e5a8c0cf2721b170daf19 @ user  57c083860cf23f4261a7d028 @ user  \n",
       "3  564e5a8c0cf2721b170daf19 @ user  57c083860cf23f4261a7d028 @ user  \n",
       "4  564e5a8c0cf2721b170daf19 @ user  57c083860cf23f4261a7d028 @ user  \n",
       "5  564e5a8c0cf2721b170daf19 @ user  57c083860cf23f4261a7d028 @ user  "
      ]
     },
     "execution_count": 283,
     "metadata": {},
     "output_type": "execute_result"
    }
   ],
   "source": [
    "df6[0:6]"
   ]
  },
  {
   "cell_type": "code",
   "execution_count": 268,
   "metadata": {},
   "outputs": [],
   "source": [
    "dfm2 = pd.read_csv('Survey_answer.csv')"
   ]
  },
  {
   "cell_type": "code",
   "execution_count": 284,
   "metadata": {},
   "outputs": [],
   "source": [
    "user_login = df6.groupby('user').date.nunique()"
   ]
  },
  {
   "cell_type": "code",
   "execution_count": 467,
   "metadata": {},
   "outputs": [
    {
     "data": {
      "text/plain": [
       "user\n",
       "54f530089932b01dbcffc89b @ user      53\n",
       "54f530c89932b01dbcffc89c @ user    1299\n",
       "54f5ef739932b01dbcffc8a2 @ user     176\n",
       "54f757f4993241fc498ec5d7 @ user     171\n",
       "54f8f6f59932ce1b71e7317a @ user      59\n",
       "54fe33869932ce1b71e73193 @ user      95\n",
       "Name: date, dtype: int64"
      ]
     },
     "execution_count": 467,
     "metadata": {},
     "output_type": "execute_result"
    }
   ],
   "source": [
    "user_login[0:6]"
   ]
  },
  {
   "cell_type": "code",
   "execution_count": 473,
   "metadata": {},
   "outputs": [
    {
     "name": "stdout",
     "output_type": "stream",
     "text": [
      "660.6240963855422\n"
     ]
    }
   ],
   "source": [
    "avg_login = np.mean(user_login)\n",
    "print(avg_login)"
   ]
  },
  {
   "cell_type": "code",
   "execution_count": 362,
   "metadata": {},
   "outputs": [
    {
     "data": {
      "text/plain": [
       "Text(0.5,1,'Number User Logins')"
      ]
     },
     "execution_count": 362,
     "metadata": {},
     "output_type": "execute_result"
    },
    {
     "data": {
      "image/png": "[encoded data removed]",
      "text/plain": [
       "<matplotlib.figure.Figure at 0x1e34a042d68>"
      ]
     },
     "metadata": {},
     "output_type": "display_data"
    }
   ],
   "source": [
    "plt.figure(6)\n",
    "plt.hist(user_login, bins=10)\n",
    "plt.xlabel('Logins')\n",
    "plt.ylabel('Users')\n",
    "plt.title('Number User Logins')"
   ]
  },
  {
   "cell_type": "markdown",
   "metadata": {},
   "source": [
    "After analyzing this table we observe that there is a high rate of logins per user.  With the average was 660 and the maximum at 10,433."
   ]
  },
  {
   "cell_type": "code",
   "execution_count": null,
   "metadata": {},
   "outputs": [],
   "source": []
  }
 ],
 "metadata": {
  "kernelspec": {
   "display_name": "Python 3",
   "language": "python",
   "name": "python3"
  },
  "language_info": {
   "codemirror_mode": {
    "name": "ipython",
    "version": 3
   },
   "file_extension": ".py",
   "mimetype": "text/x-python",
   "name": "python",
   "nbconvert_exporter": "python",
   "pygments_lexer": "ipython3",
   "version": "3.6.4"
  }
 },
 "nbformat": 4,
 "nbformat_minor": 2
}
